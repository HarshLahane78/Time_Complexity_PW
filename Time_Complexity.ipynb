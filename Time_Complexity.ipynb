{
 "cells": [
  {
   "cell_type": "code",
   "execution_count": null,
   "id": "c882828b-4841-4572-9205-726c89ab5354",
   "metadata": {},
   "outputs": [],
   "source": [
    "#Problem 1: Quicksort\n",
    "def quicksort(arr):\n",
    "    if len(arr) <= 1:\n",
    "        return arr\n",
    "    pivot = arr[len(arr) // 2]\n",
    "    left = [x for x in arr if x < pivot]\n",
    "    middle = [x for x in arr if x == pivot]\n",
    "    right = [x for x in arr if x > pivot]\n",
    "    return quicksort(left) + middle + quicksort(right)"
   ]
  },
  {
   "cell_type": "markdown",
   "id": "19a72e8e-d859-4172-ac7b-fcade5a9afda",
   "metadata": {},
   "source": [
    "Time Complexity:\n",
    "Best Case: O(n log n) – When the pivot divides the array evenly.\n",
    "Worst Case: O(n²) – When the pivot divides the array very unevenly (e.g., the smallest or largest element is always chosen as the pivot).\n",
    "Average Case: O(n log n) – In practice, with a good pivot choice, this is the most common case."
   ]
  },
  {
   "cell_type": "code",
   "execution_count": null,
   "id": "bf655b79-449e-4586-adce-3a3fae3d052a",
   "metadata": {},
   "outputs": [],
   "source": [
    "#Problem 2: Nested Loop Example\n",
    "def nested_loop_example(matrix):\n",
    "    rows, cols = len(matrix), len(matrix[0])\n",
    "    total = 0\n",
    "    for i in range(rows):\n",
    "        for j in range(cols):\n",
    "            total += matrix[i][j]\n",
    "    return total"
   ]
  },
  {
   "cell_type": "markdown",
   "id": "f4dbd1e4-1e84-4540-9980-b8a55c774c65",
   "metadata": {},
   "source": [
    "Time Complexity: O(m * n), where m is the number of rows and n is the number of columns in the matrix. The function iterates over each element of the matrix once."
   ]
  },
  {
   "cell_type": "code",
   "execution_count": 1,
   "id": "8af504d8-7655-44e0-9f20-9e64b90a2ab3",
   "metadata": {},
   "outputs": [],
   "source": [
    "#Problem 3: Example Function\n",
    "def example_function(arr):\n",
    "    result = 0\n",
    "    for element in arr:\n",
    "        result += element\n",
    "    return result"
   ]
  },
  {
   "cell_type": "markdown",
   "id": "9ca74c90-da9f-4416-85d0-af75d37ac34a",
   "metadata": {},
   "source": [
    "Time Complexity: O(n), where n is the number of elements in the array. The function iterates over the array once."
   ]
  },
  {
   "cell_type": "code",
   "execution_count": 2,
   "id": "09dd4b1f-bd8e-44ef-ae53-56ec227a6284",
   "metadata": {},
   "outputs": [],
   "source": [
    "#Problem 4: Longest Increasing Subsequence\n",
    "def longest_increasing_subsequence(nums):\n",
    "    n = len(nums)\n",
    "    lis = [1] * n\n",
    "    for i in range(1, n):\n",
    "        for j in range(0, i):\n",
    "            if nums[i] > nums[j] and lis[i] < lis[j] + 1:\n",
    "                lis[i] = lis[j] + 1\n",
    "    return max(lis)"
   ]
  },
  {
   "cell_type": "markdown",
   "id": "a95ae042-63ff-4540-9789-54729e44f36a",
   "metadata": {},
   "source": [
    "Time Complexity: O(n²), where n is the length of the nums array. There are two nested loops, each running n times.\n"
   ]
  },
  {
   "cell_type": "code",
   "execution_count": 3,
   "id": "a8f0fc73-08a1-40a3-82df-8fdf61be422c",
   "metadata": {},
   "outputs": [],
   "source": [
    "#Problem 5: Mysterious Function\n",
    "def mysterious_function(arr):\n",
    "    n = len(arr)\n",
    "    result = 0\n",
    "    for i in range(n):\n",
    "        for j in range(i, n):\n",
    "            result += arr[i] * arr[j]\n",
    "    return result"
   ]
  },
  {
   "cell_type": "markdown",
   "id": "4fab7db4-93b5-44e7-b1f1-beefb79d3a70",
   "metadata": {},
   "source": [
    "Time Complexity: O(n²), where n is the number of elements in the array. The nested loops make the time complexity quadratic."
   ]
  },
  {
   "cell_type": "code",
   "execution_count": 4,
   "id": "a4b2d5ee-bc48-4571-afa9-e1a59ff4666a",
   "metadata": {},
   "outputs": [],
   "source": [
    "#Problem 6: Sum of Digits\n",
    "def sum_of_digits(n):\n",
    "    if n == 0:\n",
    "        return 0\n",
    "    return n % 10 + sum_of_digits(n // 10)"
   ]
  },
  {
   "cell_type": "markdown",
   "id": "916545ee-9968-46ff-8406-25f5f6ca9a99",
   "metadata": {},
   "source": [
    "Time Complexity: O(log n), where n is the given integer. The recursive function reduces the size of the number by a factor of 10 in each step, which corresponds to the number of digits (logarithmic to the base 10).\n"
   ]
  },
  {
   "cell_type": "code",
   "execution_count": 5,
   "id": "4116ac2c-4bd9-44aa-9b6f-db1335f69a86",
   "metadata": {},
   "outputs": [],
   "source": [
    "#Problem 7: Fibonacci Series\n",
    "def fibonacci_series(n):\n",
    "    if n <= 1:\n",
    "        return n\n",
    "    return fibonacci_series(n - 1) + fibonacci_series(n - 2)"
   ]
  },
  {
   "cell_type": "markdown",
   "id": "1a9f3e10-7b03-4942-8845-f88507a63765",
   "metadata": {},
   "source": [
    "Time Complexity: O(2ⁿ). The naive recursive Fibonacci solution has an exponential time complexity because it recalculates the Fibonacci numbers multiple times.\n"
   ]
  },
  {
   "cell_type": "code",
   "execution_count": 6,
   "id": "be142b9a-b0d0-4335-a943-ead95d15e237",
   "metadata": {},
   "outputs": [],
   "source": [
    "#Problem 8: Subset Sum\n",
    "def subset_sum(arr, target):\n",
    "    if target == 0:\n",
    "        return True\n",
    "    if not arr:\n",
    "        return False\n",
    "    if arr[0] > target:\n",
    "        return subset_sum(arr[1:], target)\n",
    "    return subset_sum(arr[1:], target) or subset_sum(arr[1:], target - arr[0])"
   ]
  },
  {
   "cell_type": "markdown",
   "id": "885332ad-2252-444b-975c-8f1367ef8019",
   "metadata": {},
   "source": [
    "Time Complexity: O(2ⁿ), where n is the number of elements in the array. For each element, there are two possibilities: include it in the subset or exclude it, leading to an exponential number of recursive calls."
   ]
  },
  {
   "cell_type": "code",
   "execution_count": 7,
   "id": "7fe40977-8ef6-4453-bda0-0498c9f87c75",
   "metadata": {},
   "outputs": [],
   "source": [
    "#Problem 9: Word Break\n",
    "def word_break(s, word_dict):\n",
    "    if s == \"\":\n",
    "        return True\n",
    "    for word in word_dict:\n",
    "        if s.startswith(word):\n",
    "            if word_break(s[len(word):], word_dict):\n",
    "                return True\n",
    "    return False"
   ]
  },
  {
   "cell_type": "markdown",
   "id": "fad6e7da-3266-4f81-aa3e-644736fc14ed",
   "metadata": {},
   "source": [
    "Time Complexity: O(2ⁿ) in the worst case, where n is the length of the string s. Each recursive call creates two branches: either a word is matched, or we continue without matching.\n"
   ]
  },
  {
   "cell_type": "code",
   "execution_count": 8,
   "id": "55ff4800-d330-4521-9f6b-7e12e3a02f16",
   "metadata": {},
   "outputs": [],
   "source": [
    "#Problem 10: N-Queens Problem\n",
    "def solveNQueens(n):\n",
    "    def isSafe(board, row, col):\n",
    "        for i in range(row):\n",
    "            if board[i] == col or abs(board[i] - col) == abs(i - row):\n",
    "                return False\n",
    "        return True\n",
    "    \n",
    "    def solve(board, row):\n",
    "        if row == n:\n",
    "            solutions.append(board[:])\n",
    "            return\n",
    "        for col in range(n):\n",
    "            if isSafe(board, row, col):\n",
    "                board[row] = col\n",
    "                solve(board, row + 1)\n",
    "\n",
    "    solutions = []\n",
    "    solve([-1] * n, 0)\n",
    "    return solutions"
   ]
  },
  {
   "cell_type": "markdown",
   "id": "63aecc76-2332-414a-a3d2-2fd95fcb68a5",
   "metadata": {},
   "source": [
    "Time Complexity: O(n!), where n is the size of the board. The problem tries placing queens in each row and checks each column, leading to a factorial number of possibilities. The recursive backtracking algorithm explores all possible arrangements.\n"
   ]
  }
 ],
 "metadata": {
  "kernelspec": {
   "display_name": "Python 3 (ipykernel)",
   "language": "python",
   "name": "python3"
  },
  "language_info": {
   "codemirror_mode": {
    "name": "ipython",
    "version": 3
   },
   "file_extension": ".py",
   "mimetype": "text/x-python",
   "name": "python",
   "nbconvert_exporter": "python",
   "pygments_lexer": "ipython3",
   "version": "3.10.8"
  }
 },
 "nbformat": 4,
 "nbformat_minor": 5
}
